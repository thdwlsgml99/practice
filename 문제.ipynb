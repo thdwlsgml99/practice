{
 "cells": [
  {
   "cell_type": "markdown",
   "id": "ec30c5d7",
   "metadata": {},
   "source": [
    "문1) 자동차 번호가 다음과 같을 때 뒤에 4자리만 출력하세요.\n",
    "\n",
    "```python\n",
    "자동차번호 = '10라 3709'\n",
    "```"
   ]
  },
  {
   "cell_type": "code",
   "execution_count": null,
   "id": "3e42aea6",
   "metadata": {},
   "outputs": [],
   "source": [
    "# 코드를 작성하세요.\n"
   ]
  },
  {
   "cell_type": "markdown",
   "id": "39a3870f",
   "metadata": {},
   "source": [
    "문2) 아래의 문자열에서 '홀' 이 몇개 있는지 출력하세요.\n",
    "\n",
    "```python\n",
    "문자열 = '짝홀짝홀짝홀짝홀짝'\n",
    "```"
   ]
  },
  {
   "cell_type": "code",
   "execution_count": null,
   "id": "ef61db01",
   "metadata": {},
   "outputs": [],
   "source": [
    "# 코드를 작성하세요.\n"
   ]
  },
  {
   "cell_type": "markdown",
   "id": "25720aad",
   "metadata": {},
   "source": [
    "문3) 변수에 다음과 같이 문자열과 정수를 이용하여 출력 예시와 같이 formatting 하여 출력하세요.\n",
    "- 출력 대상\n",
    "```python\n",
    "이름1 = '아이유'\n",
    "나이1 = 25\n",
    "이름2 = \"서태지\"\n",
    "나이2 = 48\n",
    "```\n",
    "- formatting 예시) `이름: 홍길동 나이: 16`"
   ]
  },
  {
   "cell_type": "code",
   "execution_count": null,
   "id": "ab514a88",
   "metadata": {},
   "outputs": [],
   "source": [
    "# 코드를 작성하세요.\n"
   ]
  },
  {
   "cell_type": "markdown",
   "id": "ce22693f",
   "metadata": {},
   "source": [
    "문4) 다음 리스트에는 4개의 영화 제목이 입력되어있습니다. \"슈퍼맨\"는 몇번째 위치(인덱스)에 있는지 출력하세요.\n",
    "\n",
    "```python\n",
    "영화 = ['스파이더맨', '배트맨', '슈퍼맨', '원펀맨']\n",
    "```"
   ]
  },
  {
   "cell_type": "code",
   "execution_count": null,
   "id": "b3287c83",
   "metadata": {},
   "outputs": [],
   "source": [
    "# 코드를 작성하세요.\n"
   ]
  },
  {
   "cell_type": "markdown",
   "id": "5708ec48",
   "metadata": {},
   "source": [
    "문5) 다음 리스트에서 문자열의 길이가 가장 긴 문자열을 찾아 출력하세요.\n",
    "\n",
    "```python\n",
    "리스트 = [\"쌈장\", \"불고기\", \"삼겹살\", \"된장\", \"간고등어\"]\n",
    "```"
   ]
  },
  {
   "cell_type": "code",
   "execution_count": null,
   "id": "cb90ba8c",
   "metadata": {},
   "outputs": [],
   "source": [
    "# 코드를 작성하세요.\n"
   ]
  },
  {
   "cell_type": "markdown",
   "id": "786c0d0a",
   "metadata": {},
   "source": [
    "문6) 다음 이름과 가격을 딕셔너리 자료형으로 담아서 출력하세요.\n",
    "\n",
    "| 이름 | 가격 |\n",
    "|:-----:|:--------:|\n",
    "|메로나|1000|\n",
    "|폴라포|1200|\n",
    "|투게더|4000|"
   ]
  },
  {
   "cell_type": "code",
   "execution_count": null,
   "id": "e0e08633",
   "metadata": {},
   "outputs": [],
   "source": [
    "# 코드를 작성하세요.\n"
   ]
  },
  {
   "cell_type": "markdown",
   "id": "300c9dde",
   "metadata": {},
   "source": [
    "문7) 사용자로부터 하나의 숫자를 입력받고, 입력 받은 숫자에 10을 더해 출력하라.\n",
    "\n",
    "* 입력 > 숫자를 입력하세요: `30`    \n",
    "* 출력 > `40`"
   ]
  },
  {
   "cell_type": "code",
   "execution_count": null,
   "id": "c6a3a528",
   "metadata": {},
   "outputs": [],
   "source": [
    "# 코드를 작성하세요.\n"
   ]
  },
  {
   "cell_type": "markdown",
   "id": "e631e3d2",
   "metadata": {},
   "source": [
    "문8) 다음 코드를 for문으로 변경하여 출력하세요.\n",
    "\n",
    "```python\n",
    "변수 = 10\n",
    "print(변수)\n",
    "변수 = 20\n",
    "print(변수)\n",
    "변수 = 30\n",
    "print(변수)\n",
    "```"
   ]
  },
  {
   "cell_type": "code",
   "execution_count": null,
   "id": "3b08928e",
   "metadata": {},
   "outputs": [],
   "source": [
    "# 코드를 작성하세요.\n"
   ]
  },
  {
   "cell_type": "markdown",
   "id": "3ca4afd4",
   "metadata": {},
   "source": [
    "문9) 리스트에는 네 개의 문자열이 있습니다. for문을 사용해서 다음과 같이 출력하세요.\n",
    "\n",
    "- 리스트 데이터\n",
    "```python\n",
    "[\"가\", \"나\", \"다\", \"라\"]\n",
    "```\n",
    "- 출력\n",
    "```cmd\n",
    "나\n",
    "다\n",
    "라\n",
    "```"
   ]
  },
  {
   "cell_type": "code",
   "execution_count": null,
   "id": "392045b8",
   "metadata": {},
   "outputs": [],
   "source": [
    "# 코드를 작성하세요.\n"
   ]
  },
  {
   "cell_type": "markdown",
   "id": "1114a681",
   "metadata": {},
   "source": [
    "문10) 다음 \"비트코인\" 문자열을 10번 화면에 출력하는 함수를 정의하세요.\n",
    "\n",
    "- 출력\n",
    "```cmd\n",
    "비트코인\n",
    "비트코인\n",
    "비트코인\n",
    "비트코인\n",
    "비트코인\n",
    "비트코인\n",
    "비트코인\n",
    "비트코인\n",
    "비트코인\n",
    "비트코인\n",
    "```"
   ]
  },
  {
   "cell_type": "code",
   "execution_count": null,
   "id": "bce2450a",
   "metadata": {},
   "outputs": [],
   "source": [
    "# 코드를 작성하세요.\n"
   ]
  }
 ],
 "metadata": {
  "language_info": {
   "name": "python"
  }
 },
 "nbformat": 4,
 "nbformat_minor": 5
}
