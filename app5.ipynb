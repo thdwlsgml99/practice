{
 "cells": [
  {
   "cell_type": "markdown",
   "id": "4888ee6d",
   "metadata": {},
   "source": [
    "반복문 : while, for"
   ]
  },
  {
   "cell_type": "code",
   "execution_count": null,
   "id": "03fa99da",
   "metadata": {},
   "outputs": [
    {
     "name": "stdout",
     "output_type": "stream",
     "text": [
      "if!\n"
     ]
    }
   ],
   "source": [
    "while 0:\n",
    "    print(\"while!\")\n",
    "    \n",
    "if 1:\n",
    "    print(\"if!\")"
   ]
  }
 ],
 "metadata": {
  "kernelspec": {
   "display_name": "Python 3",
   "language": "python",
   "name": "python3"
  },
  "language_info": {
   "codemirror_mode": {
    "name": "ipython",
    "version": 3
   },
   "file_extension": ".py",
   "mimetype": "text/x-python",
   "name": "python",
   "nbconvert_exporter": "python",
   "pygments_lexer": "ipython3",
   "version": "3.13.5"
  }
 },
 "nbformat": 4,
 "nbformat_minor": 5
}
