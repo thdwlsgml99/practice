{
 "cells": [
  {
   "cell_type": "markdown",
   "id": "a96bd234",
   "metadata": {},
   "source": [
    "음료수 자판기를 만들려고 합니다.\n",
    "\n",
    "콜라:1200 사이다:1000 환타:1100"
   ]
  },
  {
   "cell_type": "code",
   "execution_count": 2,
   "id": "d3221387",
   "metadata": {},
   "outputs": [
    {
     "name": "stdout",
     "output_type": "stream",
     "text": [
      "음료수 구매 자판기\n"
     ]
    }
   ],
   "source": [
    "print(\"음료수 구매 자판기\")"
   ]
  },
  {
   "cell_type": "code",
   "execution_count": 5,
   "id": "106c173c",
   "metadata": {},
   "outputs": [
    {
     "name": "stdout",
     "output_type": "stream",
     "text": [
      "사이다\n",
      "1000원\n",
      "5\n"
     ]
    }
   ],
   "source": [
    "음료 = input(\"콜라, 사이다, 환타 중 하나의 음료수 입력.\")\n",
    "print(음료)\n",
    "\n",
    "금액 = 0 \n",
    "if 음료 == '콜라':\n",
    "    금액 = 1200\n",
    "if 음료 == '사이다':\n",
    "    금액 = 1000\n",
    "if 음료 == '환타':\n",
    "    금액 = 1100\n",
    "    \n",
    "print(f'{금액}원')\n",
    "\n",
    "수량 = input(\"선택하신 음료의 수량을 입력.\")\n",
    "수량 = int(수량)\n",
    "print(수량)"
   ]
  },
  {
   "cell_type": "code",
   "execution_count": 6,
   "id": "1e3b3f8a",
   "metadata": {},
   "outputs": [
    {
     "name": "stdout",
     "output_type": "stream",
     "text": [
      "사이다 5개 금액은 5000원 입니다.\n"
     ]
    }
   ],
   "source": [
    "print(f'{음료} {수량}개 금액은 {금액 * 수량}원 입니다.')"
   ]
  },
  {
   "cell_type": "code",
   "execution_count": 8,
   "id": "553e9fb1",
   "metadata": {},
   "outputs": [
    {
     "name": "stdout",
     "output_type": "stream",
     "text": [
      "10000원를 받고 5000원 거스름돈 받기.\n"
     ]
    }
   ],
   "source": [
    "돈 = input('선택한 음료 구매를 위해 금액을 지불하세요.')\n",
    "돈 = int(돈)\n",
    "print(f'{돈}원를 받고 {돈 - (금액 * 수량)}원 거스름돈 받기.')"
   ]
  },
  {
   "cell_type": "code",
   "execution_count": 11,
   "id": "abea1ef1",
   "metadata": {},
   "outputs": [
    {
     "name": "stdout",
     "output_type": "stream",
     "text": [
      "음료 선택 콜라 1700원\n",
      "콜라 5개 금액은 8500원 입니다.\n",
      "10000원을 받고 1500원을 잔돈으로 뽑아주세요.\n",
      "다른 음료는 판매하지 않습니다.\n",
      "다른 음료는 판매하지 않습니다.\n",
      "다른 음료는 판매하지 않습니다.\n"
     ]
    },
    {
     "ename": "KeyboardInterrupt",
     "evalue": "Interrupted by user",
     "output_type": "error",
     "traceback": [
      "\u001b[31m---------------------------------------------------------------------------\u001b[39m",
      "\u001b[31mKeyboardInterrupt\u001b[39m                         Traceback (most recent call last)",
      "\u001b[36mCell\u001b[39m\u001b[36m \u001b[39m\u001b[32mIn[11]\u001b[39m\u001b[32m, line 10\u001b[39m\n\u001b[32m      7\u001b[39m \u001b[38;5;28;01mif\u001b[39;00m 시작%\u001b[32m2\u001b[39m == \u001b[32m0\u001b[39m:\n\u001b[32m      8\u001b[39m     \u001b[38;5;28mprint\u001b[39m(\u001b[33mf\u001b[39m\u001b[33m\"\u001b[39m\u001b[33m출력 : \u001b[39m\u001b[38;5;132;01m{\u001b[39;00m시작\u001b[38;5;132;01m}\u001b[39;00m\u001b[33m\"\u001b[39m)\n\u001b[32m---> \u001b[39m\u001b[32m10\u001b[39m 선택한음료 = \u001b[38;5;28;43minput\u001b[39;49m\u001b[43m(\u001b[49m\u001b[33;43m'\u001b[39;49m\u001b[33;43m버튼을 눌러 음료수를 선택해 주세요: \u001b[39;49m\u001b[33;43m'\u001b[39;49m\u001b[43m)\u001b[49m\n\u001b[32m     12\u001b[39m \u001b[38;5;28;01mif\u001b[39;00m 선택한음료 == \u001b[33m'\u001b[39m\u001b[33m콜라\u001b[39m\u001b[33m'\u001b[39m \u001b[38;5;129;01mor\u001b[39;00m 선택한음료 == \u001b[33m'\u001b[39m\u001b[33m칠성사이다\u001b[39m\u001b[33m'\u001b[39m \u001b[38;5;129;01mor\u001b[39;00m 선택한음료 == \u001b[33m'\u001b[39m\u001b[33m환타\u001b[39m\u001b[33m'\u001b[39m \u001b[38;5;129;01mor\u001b[39;00m 선택한음료 == \u001b[33m'\u001b[39m\u001b[33m레몬녹차\u001b[39m\u001b[33m'\u001b[39m:\n\u001b[32m     14\u001b[39m     \u001b[38;5;28;01mif\u001b[39;00m 선택한음료 == \u001b[33m'\u001b[39m\u001b[33m콜라\u001b[39m\u001b[33m'\u001b[39m:\n",
      "\u001b[36mFile \u001b[39m\u001b[32m~\\AppData\\Roaming\\Python\\Python313\\site-packages\\ipykernel\\kernelbase.py:1282\u001b[39m, in \u001b[36mKernel.raw_input\u001b[39m\u001b[34m(self, prompt)\u001b[39m\n\u001b[32m   1280\u001b[39m     msg = \u001b[33m\"\u001b[39m\u001b[33mraw_input was called, but this frontend does not support input requests.\u001b[39m\u001b[33m\"\u001b[39m\n\u001b[32m   1281\u001b[39m     \u001b[38;5;28;01mraise\u001b[39;00m StdinNotImplementedError(msg)\n\u001b[32m-> \u001b[39m\u001b[32m1282\u001b[39m \u001b[38;5;28;01mreturn\u001b[39;00m \u001b[38;5;28;43mself\u001b[39;49m\u001b[43m.\u001b[49m\u001b[43m_input_request\u001b[49m\u001b[43m(\u001b[49m\n\u001b[32m   1283\u001b[39m \u001b[43m    \u001b[49m\u001b[38;5;28;43mstr\u001b[39;49m\u001b[43m(\u001b[49m\u001b[43mprompt\u001b[49m\u001b[43m)\u001b[49m\u001b[43m,\u001b[49m\n\u001b[32m   1284\u001b[39m \u001b[43m    \u001b[49m\u001b[38;5;28;43mself\u001b[39;49m\u001b[43m.\u001b[49m\u001b[43m_parent_ident\u001b[49m\u001b[43m[\u001b[49m\u001b[33;43m\"\u001b[39;49m\u001b[33;43mshell\u001b[39;49m\u001b[33;43m\"\u001b[39;49m\u001b[43m]\u001b[49m\u001b[43m,\u001b[49m\n\u001b[32m   1285\u001b[39m \u001b[43m    \u001b[49m\u001b[38;5;28;43mself\u001b[39;49m\u001b[43m.\u001b[49m\u001b[43mget_parent\u001b[49m\u001b[43m(\u001b[49m\u001b[33;43m\"\u001b[39;49m\u001b[33;43mshell\u001b[39;49m\u001b[33;43m\"\u001b[39;49m\u001b[43m)\u001b[49m\u001b[43m,\u001b[49m\n\u001b[32m   1286\u001b[39m \u001b[43m    \u001b[49m\u001b[43mpassword\u001b[49m\u001b[43m=\u001b[49m\u001b[38;5;28;43;01mFalse\u001b[39;49;00m\u001b[43m,\u001b[49m\n\u001b[32m   1287\u001b[39m \u001b[43m\u001b[49m\u001b[43m)\u001b[49m\n",
      "\u001b[36mFile \u001b[39m\u001b[32m~\\AppData\\Roaming\\Python\\Python313\\site-packages\\ipykernel\\kernelbase.py:1325\u001b[39m, in \u001b[36mKernel._input_request\u001b[39m\u001b[34m(self, prompt, ident, parent, password)\u001b[39m\n\u001b[32m   1322\u001b[39m \u001b[38;5;28;01mexcept\u001b[39;00m \u001b[38;5;167;01mKeyboardInterrupt\u001b[39;00m:\n\u001b[32m   1323\u001b[39m     \u001b[38;5;66;03m# re-raise KeyboardInterrupt, to truncate traceback\u001b[39;00m\n\u001b[32m   1324\u001b[39m     msg = \u001b[33m\"\u001b[39m\u001b[33mInterrupted by user\u001b[39m\u001b[33m\"\u001b[39m\n\u001b[32m-> \u001b[39m\u001b[32m1325\u001b[39m     \u001b[38;5;28;01mraise\u001b[39;00m \u001b[38;5;167;01mKeyboardInterrupt\u001b[39;00m(msg) \u001b[38;5;28;01mfrom\u001b[39;00m\u001b[38;5;250m \u001b[39m\u001b[38;5;28;01mNone\u001b[39;00m\n\u001b[32m   1326\u001b[39m \u001b[38;5;28;01mexcept\u001b[39;00m \u001b[38;5;167;01mException\u001b[39;00m:\n\u001b[32m   1327\u001b[39m     \u001b[38;5;28mself\u001b[39m.log.warning(\u001b[33m\"\u001b[39m\u001b[33mInvalid Message:\u001b[39m\u001b[33m\"\u001b[39m, exc_info=\u001b[38;5;28;01mTrue\u001b[39;00m)\n",
      "\u001b[31mKeyboardInterrupt\u001b[39m: Interrupted by user"
     ]
    }
   ],
   "source": [
    "#재고 수량은 자유 종류는 3가지 이상\n",
    "#음료와 수량을 모두 입력을 모두 입력할경우 지불 금액을 받고 내역을 출력\n",
    "#구매자에게 반복적으로 음료수 선택할 수 있도록한다.\n",
    "시작 = 1\n",
    "끝 = 100\n",
    "while 시작 < 끝:\n",
    "    if 시작%2 == 0:\n",
    "        print(f\"출력 : {시작}\")\n",
    "\n",
    "    선택한음료 = input('버튼을 눌러 음료수를 선택해 주세요: ')\n",
    "\n",
    "    if 선택한음료 == '콜라' or 선택한음료 == '칠성사이다' or 선택한음료 == '환타' or 선택한음료 == '레몬녹차':\n",
    "\n",
    "        if 선택한음료 == '콜라':\n",
    "            금액 = 1700\n",
    "            print('음료 선택 콜라 1700원')\n",
    "\n",
    "        elif 선택한음료 == '칠성사이다':\n",
    "            금액 = 1500\n",
    "            print('음료 선택 칠성사이다 1500원')\n",
    "\n",
    "        elif 선택한음료 == '환타':\n",
    "            금액 = 1600\n",
    "            print('음료 선택 환타 1600원')\n",
    "\n",
    "        elif 선택한음료 == '레몬녹차':\n",
    "            금액 = 1000\n",
    "            print('음료 선택 레몬녹차 1000원')\n",
    "\n",
    "        수량 = int(input('수량을 입력하세요: '))\n",
    "\n",
    "        총금액 = 금액 * 수량\n",
    "        print(f'{선택한음료} {수량}개 금액은 {총금액}원 입니다.')\n",
    "\n",
    "        지불금액 = int(input('지불할 금액을 입력하세요: '))\n",
    "        잔돈 = 지불금액 - 총금액\n",
    "        print(f'{지불금액}원을 받고 {잔돈}원을 잔돈으로 뽑아주세요.')\n",
    "\n",
    "    else:\n",
    "        print('다른 음료는 판매하지 않습니다.')\n"
   ]
  }
 ],
 "metadata": {
  "kernelspec": {
   "display_name": "Python 3",
   "language": "python",
   "name": "python3"
  },
  "language_info": {
   "codemirror_mode": {
    "name": "ipython",
    "version": 3
   },
   "file_extension": ".py",
   "mimetype": "text/x-python",
   "name": "python",
   "nbconvert_exporter": "python",
   "pygments_lexer": "ipython3",
   "version": "3.13.5"
  }
 },
 "nbformat": 4,
 "nbformat_minor": 5
}
