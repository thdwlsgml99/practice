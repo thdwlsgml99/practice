{
 "cells": [
  {
   "cell_type": "code",
   "execution_count": null,
   "id": "86b0d263",
   "metadata": {},
   "outputs": [
    {
     "name": "stdout",
     "output_type": "stream",
     "text": [
      "2500\n",
      "계산이 잘못된 건가?\n"
     ]
    }
   ],
   "source": [
    "지갑 = 10000\n",
    "음식 = 2500\n",
    "구매수량 = 3\n",
    "print(지갑 - (음식 * 구매수량))\n",
    "\n",
    "지불할금액 = 7500\n",
    "\n",
    "if 지불할금액 == (음식 * 구매수량):\n",
    "    print(\"난 암산을 잘한다.\")\n",
    "else:\n",
    "    print(\"계산이 잘못된 건가?\")"
   ]
  },
  {
   "cell_type": "code",
   "execution_count": 3,
   "id": "63d77179",
   "metadata": {},
   "outputs": [
    {
     "name": "stdout",
     "output_type": "stream",
     "text": [
      "2500\n",
      "난 암산을 잘한다.\n"
     ]
    }
   ],
   "source": [
    "지갑 = 10000\n",
    "음식 = 2500\n",
    "구매수량 = 3\n",
    "print(지갑 - (음식 * 구매수량))\n",
    "\n",
    "지불할금액 = input('지불할 금액을 입력하세요.')\n",
    "\n",
    "if int(지불할금액) == (음식 * 구매수량):\n",
    "    print(\"난 암산을 잘한다.\")\n",
    "else:\n",
    "    print(\"계산이 잘못된 건가?\")"
   ]
  },
  {
   "cell_type": "code",
   "execution_count": 4,
   "id": "a50c66c0",
   "metadata": {},
   "outputs": [
    {
     "name": "stdout",
     "output_type": "stream",
     "text": [
      "<class 'int'>\n"
     ]
    }
   ],
   "source": [
    "지불할금액 = int(input('지불할 금액을 입력하세요.'))\n",
    "print(type(지불할금액))"
   ]
  }
 ],
 "metadata": {
  "kernelspec": {
   "display_name": "Python 3",
   "language": "python",
   "name": "python3"
  },
  "language_info": {
   "codemirror_mode": {
    "name": "ipython",
    "version": 3
   },
   "file_extension": ".py",
   "mimetype": "text/x-python",
   "name": "python",
   "nbconvert_exporter": "python",
   "pygments_lexer": "ipython3",
   "version": "3.13.5"
  }
 },
 "nbformat": 4,
 "nbformat_minor": 5
}
