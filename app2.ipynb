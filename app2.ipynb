{
 "cells": [
  {
   "cell_type": "markdown",
   "id": "ff323289",
   "metadata": {},
   "source": [
    "제어문\n",
    "1. 조건문 : if\n",
    "2. 반복문 : for, while"
   ]
  },
  {
   "cell_type": "code",
   "execution_count": 2,
   "id": "e595b956",
   "metadata": {},
   "outputs": [
    {
     "name": "stdout",
     "output_type": "stream",
     "text": [
      "False\n"
     ]
    }
   ],
   "source": [
    "a = 5\n",
    "print(a == 3)"
   ]
  },
  {
   "cell_type": "code",
   "execution_count": 4,
   "id": "9056aae5",
   "metadata": {},
   "outputs": [
    {
     "name": "stdout",
     "output_type": "stream",
     "text": [
      "다르다.\n"
     ]
    }
   ],
   "source": [
    "a = 10 == 3\n",
    "if a :\n",
    "    print('맞다.')\n",
    "    \n",
    "else :\n",
    "    print('다르다.') "
   ]
  }
 ],
 "metadata": {
  "kernelspec": {
   "display_name": "Python 3",
   "language": "python",
   "name": "python3"
  },
  "language_info": {
   "codemirror_mode": {
    "name": "ipython",
    "version": 3
   },
   "file_extension": ".py",
   "mimetype": "text/x-python",
   "name": "python",
   "nbconvert_exporter": "python",
   "pygments_lexer": "ipython3",
   "version": "3.13.5"
  }
 },
 "nbformat": 4,
 "nbformat_minor": 5
}
