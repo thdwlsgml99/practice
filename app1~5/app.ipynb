{
 "cells": [
  {
   "cell_type": "markdown",
   "id": "bc4aeaba",
   "metadata": {},
   "source": [
    "파이썬에서 사용하는 기본 자료형과 변수"
   ]
  },
  {
   "cell_type": "code",
   "execution_count": 1,
   "id": "462f23eb",
   "metadata": {},
   "outputs": [
    {
     "name": "stdout",
     "output_type": "stream",
     "text": [
      "136\n"
     ]
    }
   ],
   "source": [
    "# 숫자\n",
    "a = 100 + 36\n",
    "print(a)"
   ]
  },
  {
   "cell_type": "code",
   "execution_count": 2,
   "id": "0667ce0f",
   "metadata": {},
   "outputs": [
    {
     "name": "stdout",
     "output_type": "stream",
     "text": [
      "문자열\t'출력' 하세요.\n"
     ]
    }
   ],
   "source": [
    "# 문자열\n",
    "a = '문자열' + '\\t' + \"'출력' 하세요.\"\n",
    "print(a)"
   ]
  },
  {
   "cell_type": "markdown",
   "id": "d407c37a",
   "metadata": {},
   "source": [
    "문자열에서 인덱싱과 슬라이싱\n",
    "a = '내용이 들어 있습니다.'\n",
    "인덱싱      >> a[위치값]\n",
    "슬라이싱    >> a[시작위치값:끝위치값]"
   ]
  },
  {
   "cell_type": "code",
   "execution_count": 4,
   "id": "4e2fa37d",
   "metadata": {},
   "outputs": [
    {
     "name": "stdout",
     "output_type": "stream",
     "text": [
      "이\n",
      "내용이\n"
     ]
    }
   ],
   "source": [
    "a = '내용이 들어 있습니다.'\n",
    "print(a[2])\n",
    "print(a[:3])"
   ]
  },
  {
   "cell_type": "code",
   "execution_count": 7,
   "id": "824d9d80",
   "metadata": {},
   "outputs": [
    {
     "name": "stdout",
     "output_type": "stream",
     "text": [
      "12 있습니다. 있습니다.\n"
     ]
    }
   ],
   "source": [
    "a = '내용이 들어 있습니다.'\n",
    "print(len(a), a[-5:], a[-5:len(a)])"
   ]
  },
  {
   "cell_type": "code",
   "execution_count": 8,
   "id": "fddaa6e4",
   "metadata": {},
   "outputs": [
    {
     "name": "stdout",
     "output_type": "stream",
     "text": [
      "내용이 들어 있습니다. <class 'str'>\n"
     ]
    }
   ],
   "source": [
    "a = '내용이 들어 있습니다.'\n",
    "print(a, type(a))"
   ]
  }
 ],
 "metadata": {
  "kernelspec": {
   "display_name": "Python 3",
   "language": "python",
   "name": "python3"
  },
  "language_info": {
   "codemirror_mode": {
    "name": "ipython",
    "version": 3
   },
   "file_extension": ".py",
   "mimetype": "text/x-python",
   "name": "python",
   "nbconvert_exporter": "python",
   "pygments_lexer": "ipython3",
   "version": "3.13.5"
  }
 },
 "nbformat": 4,
 "nbformat_minor": 5
}
